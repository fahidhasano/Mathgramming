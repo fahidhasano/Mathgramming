{
 "cells": [
  {
   "cell_type": "code",
   "execution_count": 40,
   "id": "e0539f1c-d02f-423c-acc7-c7fb6b588a7e",
   "metadata": {},
   "outputs": [
    {
     "data": {
      "image/png": "[encoded data removed]",
      "text/plain": [
       "<Figure size 640x480 with 1 Axes>"
      ]
     },
     "metadata": {},
     "output_type": "display_data"
    }
   ],
   "source": [
    "import numpy as np\n",
    "a = np.array([23,50,38,42,63,75,12,33,26,39,35,47,43,52,56,59,64,77,15,21,51,54,72,68,36,65,52,60,27,34,47,48,55,58,59,62,51,48,50,41,57,65,54,43,56,44,30,46,67,53])\n",
    "a.size\n",
    "np.max(a)\n",
    "np.min(a)\n",
    "hist, bin_edges = np.histogram(a, density=False)\n",
    "\n",
    "import matplotlib.pyplot as plt\n",
    "\n",
    "\n",
    "  # deterministic random data\n",
    "plt.hist(a, bins='auto')  # arguments are passed to np.histogram\n",
    "plt.title(\"Histogram with 'auto' bins\")\n",
    "plt.show()"
   ]
  },
  {
   "cell_type": "code",
   "execution_count": 39,
   "id": "c1652159-3752-4c43-af57-21d4a203c5bf",
   "metadata": {},
   "outputs": [
    {
     "data": {
      "text/html": [
       "<div>\n",
       "<style scoped>\n",
       "    .dataframe tbody tr th:only-of-type {\n",
       "        vertical-align: middle;\n",
       "    }\n",
       "\n",
       "    .dataframe tbody tr th {\n",
       "        vertical-align: top;\n",
       "    }\n",
       "\n",
       "    .dataframe thead th {\n",
       "        text-align: right;\n",
       "    }\n",
       "</style>\n",
       "<table border=\"1\" class=\"dataframe\">\n",
       "  <thead>\n",
       "    <tr style=\"text-align: right;\">\n",
       "      <th></th>\n",
       "      <th>Class interval</th>\n",
       "      <th>freq</th>\n",
       "    </tr>\n",
       "  </thead>\n",
       "  <tbody>\n",
       "    <tr>\n",
       "      <th>0</th>\n",
       "      <td>12.0--18.5</td>\n",
       "      <td>2</td>\n",
       "    </tr>\n",
       "    <tr>\n",
       "      <th>1</th>\n",
       "      <td>18.5--25.0</td>\n",
       "      <td>2</td>\n",
       "    </tr>\n",
       "    <tr>\n",
       "      <th>2</th>\n",
       "      <td>25.0--31.5</td>\n",
       "      <td>3</td>\n",
       "    </tr>\n",
       "    <tr>\n",
       "      <th>3</th>\n",
       "      <td>31.5--38.0</td>\n",
       "      <td>4</td>\n",
       "    </tr>\n",
       "    <tr>\n",
       "      <th>4</th>\n",
       "      <td>38.0--44.5</td>\n",
       "      <td>7</td>\n",
       "    </tr>\n",
       "    <tr>\n",
       "      <th>5</th>\n",
       "      <td>44.5--51.0</td>\n",
       "      <td>7</td>\n",
       "    </tr>\n",
       "    <tr>\n",
       "      <th>6</th>\n",
       "      <td>51.0--57.5</td>\n",
       "      <td>11</td>\n",
       "    </tr>\n",
       "    <tr>\n",
       "      <th>7</th>\n",
       "      <td>57.5--64.0</td>\n",
       "      <td>6</td>\n",
       "    </tr>\n",
       "    <tr>\n",
       "      <th>8</th>\n",
       "      <td>64.0--70.5</td>\n",
       "      <td>5</td>\n",
       "    </tr>\n",
       "    <tr>\n",
       "      <th>9</th>\n",
       "      <td>70.5--77.0</td>\n",
       "      <td>3</td>\n",
       "    </tr>\n",
       "  </tbody>\n",
       "</table>\n",
       "</div>"
      ],
      "text/plain": [
       "  Class interval  freq\n",
       "0     12.0--18.5     2\n",
       "1     18.5--25.0     2\n",
       "2     25.0--31.5     3\n",
       "3     31.5--38.0     4\n",
       "4     38.0--44.5     7\n",
       "5     44.5--51.0     7\n",
       "6     51.0--57.5    11\n",
       "7     57.5--64.0     6\n",
       "8     64.0--70.5     5\n",
       "9     70.5--77.0     3"
      ]
     },
     "execution_count": 39,
     "metadata": {},
     "output_type": "execute_result"
    }
   ],
   "source": [
    "\n",
    "In [2]: import pandas as pd\n",
    "df = pd.DataFrame(\n",
    "   ...:     {\n",
    "   ...:         \"Class interval\": [\n",
    "   ...:             f\"{bin_edges[i]}--{bin_edges[i+1]}\" for i in range(len(bin_edges)-1)\n",
    "   ...:         ],\n",
    "   ...:         \"freq\": hist\n",
    "   ...:     }\n",
    "   ...: )\n",
    "   ...: \n",
    "\n",
    "In [3]: df\n"
   ]
  },
  {
   "cell_type": "code",
   "execution_count": 55,
   "id": "803ffbe1-98a1-459b-a580-83f9e7f6cd00",
   "metadata": {},
   "outputs": [
    {
     "data": {
      "text/plain": [
       "array([148.96551724,  99.31034483,  62.06896552,  49.65517241])"
      ]
     },
     "execution_count": 55,
     "metadata": {},
     "output_type": "execute_result"
    },
    {
     "data": {
      "image/png": "[encoded data removed]",
      "text/plain": [
       "<Figure size 640x480 with 1 Axes>"
      ]
     },
     "metadata": {},
     "output_type": "display_data"
    }
   ],
   "source": [
    "\n",
    "Label = ['L1', 'L2', 'L3', 'L4']\n",
    "no_of_computers = [12,8, 5,4]\n",
    "total=np.sum([no_of_computers])\n",
    "angles=np.array([(i*360)/total for i in no_of_computers])\n",
    "fig, ax = plt.subplots()\n",
    "bar_container = ax.bar(Label, no_of_computers)\n",
    "ax.set(xlabel='Laboratory',ylabel='No. of computers', title='Bar Diagram', ylim=(0, 15))\n",
    "ax.bar_label(bar_container, fmt=lambda x: f'{x } ')\n",
    "angles"
   ]
  },
  {
   "cell_type": "code",
   "execution_count": 54,
   "id": "c8150b4b-8b14-4a94-901a-b516e161fb72",
   "metadata": {},
   "outputs": [
    {
     "data": {
      "text/html": [
       "<div>\n",
       "<style scoped>\n",
       "    .dataframe tbody tr th:only-of-type {\n",
       "        vertical-align: middle;\n",
       "    }\n",
       "\n",
       "    .dataframe tbody tr th {\n",
       "        vertical-align: top;\n",
       "    }\n",
       "\n",
       "    .dataframe thead th {\n",
       "        text-align: right;\n",
       "    }\n",
       "</style>\n",
       "<table border=\"1\" class=\"dataframe\">\n",
       "  <thead>\n",
       "    <tr style=\"text-align: right;\">\n",
       "      <th></th>\n",
       "      <th>Laboratory</th>\n",
       "      <th>Number of Computers</th>\n",
       "      <th>Angles</th>\n",
       "    </tr>\n",
       "  </thead>\n",
       "  <tbody>\n",
       "    <tr>\n",
       "      <th>0</th>\n",
       "      <td>L1</td>\n",
       "      <td>12</td>\n",
       "      <td>148.965517</td>\n",
       "    </tr>\n",
       "    <tr>\n",
       "      <th>1</th>\n",
       "      <td>L2</td>\n",
       "      <td>8</td>\n",
       "      <td>99.310345</td>\n",
       "    </tr>\n",
       "    <tr>\n",
       "      <th>2</th>\n",
       "      <td>L3</td>\n",
       "      <td>5</td>\n",
       "      <td>62.068966</td>\n",
       "    </tr>\n",
       "    <tr>\n",
       "      <th>3</th>\n",
       "      <td>L4</td>\n",
       "      <td>4</td>\n",
       "      <td>49.655172</td>\n",
       "    </tr>\n",
       "  </tbody>\n",
       "</table>\n",
       "</div>"
      ],
      "text/plain": [
       "  Laboratory  Number of Computers      Angles\n",
       "0         L1                   12  148.965517\n",
       "1         L2                    8   99.310345\n",
       "2         L3                    5   62.068966\n",
       "3         L4                    4   49.655172"
      ]
     },
     "execution_count": 54,
     "metadata": {},
     "output_type": "execute_result"
    }
   ],
   "source": [
    "#creating table from previous datas:\n",
    "import pandas as pd\n",
    "df = pd.DataFrame(\n",
    "    {\n",
    "        \"Laboratory\": \n",
    "            Label\n",
    "    ,\n",
    "        \"Number of Computers\": no_of_computers,\n",
    "        \"Angles\": angles,\n",
    "    }\n",
    ")\n",
    "df"
   ]
  },
  {
   "cell_type": "code",
   "execution_count": 59,
   "id": "f22414a7-c28d-45d5-8712-4db494f1170d",
   "metadata": {},
   "outputs": [
    {
     "data": {
      "text/plain": [
       "Text(0.5, 1.0, 'Pie Diagram')"
      ]
     },
     "execution_count": 59,
     "metadata": {},
     "output_type": "execute_result"
    },
    {
     "data": {
      "image/png": "[encoded data removed]",
      "text/plain": [
       "<Figure size 640x480 with 1 Axes>"
      ]
     },
     "metadata": {},
     "output_type": "display_data"
    }
   ],
   "source": [
    "#creating pie chart from previous datas:\n",
    "import matplotlib.pyplot as plt\n",
    "fig, ax = plt.subplots()\n",
    "ax.pie(no_of_computers, labels=Label)\n",
    "plt.title(\"Pie Diagram\")\n"
   ]
  },
  {
   "cell_type": "code",
   "execution_count": null,
   "id": "1166ec6e-7af2-479d-80f3-00f18549ba3c",
   "metadata": {},
   "outputs": [],
   "source": []
  }
 ],
 "metadata": {
  "kernelspec": {
   "display_name": "Python [conda env:base] *",
   "language": "python",
   "name": "conda-base-py"
  },
  "language_info": {
   "codemirror_mode": {
    "name": "ipython",
    "version": 3
   },
   "file_extension": ".py",
   "mimetype": "text/x-python",
   "name": "python",
   "nbconvert_exporter": "python",
   "pygments_lexer": "ipython3",
   "version": "3.13.5"
  }
 },
 "nbformat": 4,
 "nbformat_minor": 5
}
