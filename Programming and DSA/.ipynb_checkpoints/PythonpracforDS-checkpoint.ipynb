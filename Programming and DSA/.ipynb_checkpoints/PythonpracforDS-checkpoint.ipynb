{
 "cells": [
  {
   "cell_type": "code",
   "execution_count": 3,
   "id": "e51bbcfe-54dd-4081-ba80-9438b07617b2",
   "metadata": {},
   "outputs": [
    {
     "name": "stdin",
     "output_type": "stream",
     "text": [
      "enter id r\n",
      "marks 10,20,30\n",
      "more... if you don't need to input any more , then write 'no',otherwise press any key:  u\n",
      "enter id a\n",
      "marks 56,33\n",
      "more... if you don't need to input any more , then write 'no',otherwise press any key:  no\n"
     ]
    },
    {
     "data": {
      "text/plain": [
       "{'r': 20.0, 'a': 44.5}"
      ]
     },
     "execution_count": 3,
     "metadata": {},
     "output_type": "execute_result"
    }
   ],
   "source": [
    "#input data id and marks and put those in a dictionary and calculate individual id's average marks\n",
    "def datafromuser():\n",
    "    D={}\n",
    "    while 1:\n",
    "        id=input(\"enter id\")\n",
    "        \n",
    "        if id in D:\n",
    "            print('already exists!')\n",
    "        else:\n",
    "            marks=input('marks')\n",
    "            D[id]=marks.split(',')\n",
    "        more=input(\"more... if you don't need to input any more , then write 'no',otherwise press any key: \") \n",
    "        if more=='no':\n",
    "            return D\n",
    "def avg(i):\n",
    "    a={}\n",
    "    for x in i:\n",
    "        s=0\n",
    "        for j in i[x]:\n",
    "            s+=float(j)\n",
    "        a[x]=s/len(i[x])\n",
    "    return a\n",
    "    \n",
    "        \n",
    "D=datafromuser()         \n",
    "    \n",
    "avg(D)       \n",
    "            \n",
    "  \n"
   ]
  },
  {
   "cell_type": "code",
   "execution_count": null,
   "id": "1fc4aa47-b90f-4667-8fc5-6817ceaf9c8e",
   "metadata": {},
   "outputs": [],
   "source": []
  }
 ],
 "metadata": {
  "kernelspec": {
   "display_name": "Python [conda env:base] *",
   "language": "python",
   "name": "conda-base-py"
  },
  "language_info": {
   "codemirror_mode": {
    "name": "ipython",
    "version": 3
   },
   "file_extension": ".py",
   "mimetype": "text/x-python",
   "name": "python",
   "nbconvert_exporter": "python",
   "pygments_lexer": "ipython3",
   "version": "3.13.5"
  }
 },
 "nbformat": 4,
 "nbformat_minor": 5
}
