{
 "cells": [
  {
   "cell_type": "code",
   "execution_count": 9,
   "id": "86d7e8d4-534d-41d6-81e8-1eb782709857",
   "metadata": {},
   "outputs": [
    {
     "name": "stdout",
     "output_type": "stream",
     "text": [
      "0\n"
     ]
    }
   ],
   "source": [
    "#linear search for minimum element in an array\n",
    "a=[3,6,7,9,100,0,29,1,10]\n",
    "def min(x):\n",
    "    m=x[0]\n",
    "    for i in x:\n",
    "        if m>i:\n",
    "            m=i\n",
    "    return m\n",
    "print(min(a))"
   ]
  },
  {
   "cell_type": "code",
   "execution_count": 10,
   "id": "b8ce9e6e-67fc-4c35-ae53-0c3adf115518",
   "metadata": {},
   "outputs": [
    {
     "name": "stdout",
     "output_type": "stream",
     "text": [
      "sorted array: [0, 1, 3, 6, 7, 9, 10, 29, 100]\n",
      "3 is in  2 th position of the array\n"
     ]
    }
   ],
   "source": [
    "#binary search for searching the position of a specific element in an array\n",
    "\n",
    "a=[3,6,7,9,100,0,29,1,10]\n",
    "def pos(x,tar):\n",
    "    x.sort()\n",
    "    print(\"sorted array:\",x)\n",
    "    l=0\n",
    "    r=len(x)-1\n",
    "    while l<=r:\n",
    "        m=(l+r)//2\n",
    "        if x[m]==tar:\n",
    "            return print(tar,\"is in \",m,\"th position of the array\")\n",
    "        elif x[m]>tar:\n",
    "            r=m-1\n",
    "        else:\n",
    "            l=m+1\n",
    "    return print(\"Look in the sorted array!\",tar,\"does not exist in the array\")\n",
    "    \n",
    "pos(a,3)\n",
    "\n"
   ]
  },
  {
   "cell_type": "code",
   "execution_count": null,
   "id": "9dcfc37c-f22e-4782-bc31-cf4d3b6e277e",
   "metadata": {},
   "outputs": [],
   "source": [
    "#Fibonacci\n",
    "n=int(input('range'))\n",
    "b=[]\n",
    "b.append(0)\n",
    "b.append(1)\n",
    "[b.append(b[i-1]+b[i-2]) for i in range(2,n)]\n",
    "print(b)"
   ]
  },
  {
   "cell_type": "code",
   "execution_count": null,
   "id": "c5867a3f",
   "metadata": {},
   "outputs": [
    {
     "name": "stdout",
     "output_type": "stream",
     "text": [
      "0\n",
      "1\n",
      "1\n",
      "2\n",
      "3\n",
      "5\n",
      "8\n",
      "13\n",
      "21\n",
      "34\n",
      "55\n",
      "89\n",
      "144\n",
      "233\n",
      "377\n",
      "610\n",
      "987\n",
      "1597\n",
      "2584\n",
      "4181\n",
      "6765\n",
      "10946\n",
      "17711\n",
      "28657\n",
      "46368\n",
      "75025\n",
      "121393\n",
      "196418\n",
      "317811\n",
      "514229\n",
      "832040\n",
      "1346269\n",
      "2178309\n",
      "3524578\n",
      "5702887\n",
      "9227465\n",
      "14930352\n",
      "24157817\n",
      "39088169\n",
      "63245986\n",
      "102334155\n",
      "165580141\n",
      "267914296\n",
      "433494437\n",
      "701408733\n",
      "1134903170\n",
      "1836311903\n",
      "2971215073\n",
      "4807526976\n",
      "7778742049\n",
      "12586269025\n"
     ]
    }
   ],
   "source": [
    "#Fibonacci using recursion algorithm(1)\n",
    "# fibonacci(0,1,any number) it indexed with 0 so it goes upto any number+1 th\n",
    "print(0)\n",
    "print(1)\n",
    "count=2\n",
    "def fibonacci(p1,p2,tar):\n",
    "    global count\n",
    "    if count<=tar:\n",
    "        t=p1+p2\n",
    "        p1=p2\n",
    "        p2=t\n",
    "        print(p2)\n",
    "        count+=1\n",
    "        fibonacci(p1,p2,tar) \n",
    "    else:\n",
    "        return\n",
    "fibonacci(0,1,50)    \n",
    "\n",
    "\n",
    "\n",
    "\n",
    "\n",
    "        \n",
    "\n"
   ]
  },
  {
   "cell_type": "code",
   "execution_count": null,
   "id": "13a5801f",
   "metadata": {},
   "outputs": [],
   "source": [
    "#Fibonacci using recursion algorithm(2)\n",
    "# fibonacci(any number) it indexed with 0 so it goes upto any number+1 th\n",
    "def fibonacci(n):\n",
    "    if n<=1:\n",
    "        return n\n",
    "    else:\n",
    "        return fibonacci(n-1)+fibonacci(n-2)\n",
    "fibonacci(50)"
   ]
  },
  {
   "cell_type": "code",
   "execution_count": 2,
   "id": "3ab6d11f-0fa9-4a88-ab8d-70589a12e845",
   "metadata": {},
   "outputs": [
    {
     "data": {
      "text/plain": [
       "5"
      ]
     },
     "execution_count": 2,
     "metadata": {},
     "output_type": "execute_result"
    }
   ],
   "source": [
    "#euclidean algorithm\n",
    "def gcd(a,b):    \n",
    "    r=a%b\n",
    "    while(r>0):\n",
    "        a=b\n",
    "        b=r\n",
    "        r=a%b\n",
    "    return b\n",
    "gcd(50,15)  \n",
    "    \n",
    "    \n",
    "    "
   ]
  },
  {
   "cell_type": "code",
   "execution_count": 7,
   "id": "4a2b5cd8",
   "metadata": {},
   "outputs": [
    {
     "data": {
      "text/plain": [
       "[2, 3, 7, 9, 11, 12]"
      ]
     },
     "execution_count": 7,
     "metadata": {},
     "output_type": "execute_result"
    }
   ],
   "source": [
    "a = [7, 12, 9, 11, 3, 2]\n",
    "def sorting_by_selectionsort(x):\n",
    "    b=[]\n",
    "    f=x.copy()\n",
    "    while len(f)>0:\n",
    "        m=f[0]\n",
    "        for i in range(len(f)):\n",
    "            if m>f[i]:\n",
    "                m=f[i]\n",
    "        b.append(m)\n",
    "        f.remove(m)\n",
    "    return b\n",
    "sorting_by_selectionsort(a)"
   ]
  },
  {
   "cell_type": "code",
   "execution_count": null,
   "id": "f6589e77",
   "metadata": {},
   "outputs": [
    {
     "name": "stdout",
     "output_type": "stream",
     "text": [
      "['A', 2]\n"
     ]
    },
    {
     "data": {
      "text/plain": [
       "3"
      ]
     },
     "execution_count": 35,
     "metadata": {},
     "output_type": "execute_result"
    }
   ],
   "source": [
    "#stacks\n",
    "class stacks:\n",
    "    def __init__(self):\n",
    "        self.list=[]\n",
    "    def push(self,elem):\n",
    "        self.list.append(elem)\n",
    "    def remove (self):\n",
    "        if len(self.list)==0:\n",
    "            return \"empty\"\n",
    "        return self.list.pop()\n",
    "    def peek(self):\n",
    "        if len(self.list)==0:\n",
    "            return \"empty\"\n",
    "        return self.list[len(self.list)-1]\n",
    "    def isEmpty(self):\n",
    "        if len(self.list)!=0:\n",
    "            return False\n",
    "        return True\n",
    "x=stacks()\n",
    "x.push(5)\n",
    "x.isEmpty()\n",
    "x.push(66)\n",
    "x.list\n",
    "x.peek()"
   ]
  },
  {
   "cell_type": "code",
   "execution_count": null,
   "id": "455952d6-ab5d-431c-b4a0-8b6426c13e0b",
   "metadata": {},
   "outputs": [],
   "source": [
    "#queue\n",
    "class queue:\n",
    "    def __init__(self):\n",
    "        self.list=[]\n",
    "    def enqueue(self,elem):\n",
    "        self.list.append(elem)\n",
    "    def dequeue(self):\n",
    "        if len(self.list)==0:\n",
    "            return \"empty\"\n",
    "        return self.list.pop(0)\n",
    "    def size(self):\n",
    "        return len(self.list)\n",
    "    def peek(self):\n",
    "        return self.list[0]\n",
    "x=queue()\n",
    "x.enqueue(5)\n",
    "x.enqueue(10)\n",
    "x.enqueue(15)\n",
    "x.enqueue(20)\n",
    "print(x.list)\n",
    "x.dequeue()\n",
    "x.peek()      "
   ]
  },
  {
   "cell_type": "code",
   "execution_count": 7,
   "id": "c2c69ee3-0e3c-496c-a542-83a0eeae139d",
   "metadata": {},
   "outputs": [
    {
     "data": {
      "text/plain": [
       "'D'"
      ]
     },
     "execution_count": 7,
     "metadata": {},
     "output_type": "execute_result"
    }
   ],
   "source": [
    "#Binary tree\n",
    "class BinaryTree:\n",
    "    def __init__ (self,data):\n",
    "        self.data=data\n",
    "        self.left=None\n",
    "        self.right=None\n",
    "        \n",
    "root=BinaryTree('R')\n",
    "nodeA=BinaryTree('A')\n",
    "nodeB=BinaryTree('B')\n",
    "nodeC=BinaryTree('C')\n",
    "nodeD=BinaryTree('D')\n",
    "nodeE=BinaryTree('E')\n",
    "nodeF=BinaryTree('F')\n",
    "nodeG=BinaryTree('G')\n",
    "root.left=nodeA\n",
    "root.right=nodeB\n",
    "nodeA.left=nodeC\n",
    "nodeA.right=nodeD\n",
    "nodeB.left=nodeE\n",
    "nodeB.right=nodeF\n",
    "nodeF.left=nodeG\n",
    "nodeA.right.data\n",
    "        "
   ]
  },
  {
   "cell_type": "code",
   "execution_count": 26,
   "id": "d1005e99-1323-444d-90b9-96f8fa3ab485",
   "metadata": {},
   "outputs": [
    {
     "data": {
      "text/plain": [
       "'psychology'"
      ]
     },
     "execution_count": 26,
     "metadata": {},
     "output_type": "execute_result"
    }
   ],
   "source": [
    "#Form a binary search tree for the words mathematics, physics, geography, zoology, meteorology,geology, psychology, and chemistry (using alphabetical order).\n",
    "class Treenode:\n",
    "    def __init__(self,keys):\n",
    "        self.keys=keys\n",
    "        self.left=None\n",
    "        self.right=None\n",
    "def insert(root,keys):     \n",
    "    if root is None:\n",
    "        return Treenode(keys)\n",
    "    elif keys<root.keys:\n",
    "        root.left=insert(root.left,keys)\n",
    "    else:\n",
    "        root.right=insert(root.right,keys)\n",
    "    return root \n",
    "words= ['mathematics','grography','geoloy','physics','chemistry','metereology','zoology','psychology']\n",
    "root=None\n",
    "for word in words:\n",
    "    root=insert(root,word)\n",
    "root.right.right.left.keys\n",
    "    "
   ]
  },
  {
   "cell_type": "code",
   "execution_count": 39,
   "id": "aab67bff-9333-4ffc-804f-df685f5571e2",
   "metadata": {},
   "outputs": [
    {
     "name": "stdout",
     "output_type": "stream",
     "text": [
      "R,A,C,D,B,E,F,G,"
     ]
    }
   ],
   "source": [
    "#preorder traversal\n",
    "class TreeNodes:\n",
    "    def __init__(self,data):\n",
    "        self.data=data\n",
    "        self.left=None\n",
    "        self.right=None\n",
    "root=TreeNodes('R')\n",
    "nodeA=TreeNodes('A')\n",
    "nodeB=TreeNodes('B')\n",
    "nodeC=TreeNodes('C')\n",
    "nodeD=TreeNodes('D')\n",
    "nodeE=TreeNodes('E')\n",
    "nodeF=TreeNodes('F')\n",
    "nodeG=TreeNodes('G')\n",
    "root.left=nodeA\n",
    "root.right=nodeB\n",
    "nodeA.left=nodeC\n",
    "nodeA.right=nodeD\n",
    "nodeB.left=nodeE\n",
    "nodeB.right=nodeF\n",
    "nodeF.left=nodeG\n",
    "def preOrderTraversal(node):\n",
    "    if node is None:\n",
    "        return \n",
    "    print(node.data, end=',')\n",
    "    preOrderTraversal(node.left)\n",
    "    preOrderTraversal(node.right)\n",
    "preOrderTraversal(root)\n",
    "    "
   ]
  },
  {
   "cell_type": "code",
   "execution_count": 43,
   "id": "58ca3f98-0e0d-4cc7-8bf5-9405d40a867c",
   "metadata": {},
   "outputs": [
    {
     "name": "stdout",
     "output_type": "stream",
     "text": [
      "C,A,D,R,E,B,G,F,"
     ]
    }
   ],
   "source": [
    "#inorder traversal\n",
    "class TreeNodes:\n",
    "    def __init__(self,data):\n",
    "        self.data=data\n",
    "        self.left=None\n",
    "        self.right=None\n",
    "root=TreeNodes('R')\n",
    "nodeA=TreeNodes('A')\n",
    "nodeB=TreeNodes('B')\n",
    "nodeC=TreeNodes('C')\n",
    "nodeD=TreeNodes('D')\n",
    "nodeE=TreeNodes('E')\n",
    "nodeF=TreeNodes('F')\n",
    "nodeG=TreeNodes('G')\n",
    "root.left=nodeA\n",
    "root.right=nodeB\n",
    "nodeA.left=nodeC\n",
    "nodeA.right=nodeD\n",
    "nodeB.left=nodeE\n",
    "nodeB.right=nodeF\n",
    "nodeF.left=nodeG\n",
    "def inOrderTraversal(node):\n",
    "    if node is None:\n",
    "        return\n",
    "    inOrderTraversal(node.left)\n",
    "    print(node.data, end=',')\n",
    "    inOrderTraversal(node.right)\n",
    "inOrderTraversal(root)\n",
    "    "
   ]
  },
  {
   "cell_type": "code",
   "execution_count": 44,
   "id": "3ff891b6-aee8-431c-be9d-ac3efe686b64",
   "metadata": {},
   "outputs": [
    {
     "name": "stdout",
     "output_type": "stream",
     "text": [
      "C,D,A,E,G,F,B,R,"
     ]
    }
   ],
   "source": [
    "#postorder traversal\n",
    "class TreeNodes:\n",
    "    def __init__(self,data):\n",
    "        self.data=data\n",
    "        self.left=None\n",
    "        self.right=None\n",
    "root=TreeNodes('R')\n",
    "nodeA=TreeNodes('A')\n",
    "nodeB=TreeNodes('B')\n",
    "nodeC=TreeNodes('C')\n",
    "nodeD=TreeNodes('D')\n",
    "nodeE=TreeNodes('E')\n",
    "nodeF=TreeNodes('F')\n",
    "nodeG=TreeNodes('G')\n",
    "root.left=nodeA\n",
    "root.right=nodeB\n",
    "nodeA.left=nodeC\n",
    "nodeA.right=nodeD\n",
    "nodeB.left=nodeE\n",
    "nodeB.right=nodeF\n",
    "nodeF.left=nodeG\n",
    "def postOrderTraversal(node):\n",
    "    if node is None:\n",
    "        return\n",
    "    postOrderTraversal(node.left)\n",
    "    postOrderTraversal(node.right)\n",
    "    print(node.data, end=',')\n",
    "postOrderTraversal(root)\n",
    "    "
   ]
  },
  {
   "cell_type": "code",
   "execution_count": 7,
   "id": "1661291a-fe12-4f07-942d-abb0e4e5862f",
   "metadata": {},
   "outputs": [
    {
     "name": "stdout",
     "output_type": "stream",
     "text": [
      "Adjacency Matrix\n",
      "0 1 1 1\n",
      "1 0 1 0\n",
      "1 1 0 0\n",
      "1 0 0 0\n",
      "\n",
      "vertex\n",
      "Vertex 0:A\n",
      "Vertex 1:B\n",
      "Vertex 2:C\n",
      "Vertex 3:D\n"
     ]
    }
   ],
   "source": [
    "class Undirected_Graph:\n",
    "    def __init__ (self, size):\n",
    "        self.size=size\n",
    "        self.adj_matrix=[[0]*size for i in range(self.size)]\n",
    "        self.vertex_data=[' ']*size\n",
    "    def connect_edge(self,u,v):\n",
    "        if 0<=u<self.size and 0<=v<self.size:\n",
    "            self.adj_matrix[u][v]=1\n",
    "            self.adj_matrix[v][u]=1\n",
    "    def vertex_connect(self,vert,data):\n",
    "        if 0<=vert<self.size:\n",
    "            self.vertex_data[vert]=data\n",
    "    def print_graph(self):\n",
    "        print(\"Adjacency Matrix\")\n",
    "        for r in self.adj_matrix:\n",
    "            print(' '.join(map(str,r)))\n",
    "        print(\"\\nvertex\")\n",
    "        for v,d in enumerate(self.vertex_data):\n",
    "            print(f\"Vertex {v}:{d}\")\n",
    "g=Undirected_Graph(4)\n",
    "g.connect_edge(0,1)\n",
    "g.connect_edge(0,2)\n",
    "g.connect_edge(0,3)\n",
    "g.connect_edge(1,2)\n",
    "g.vertex_connect(0,'A')\n",
    "g.vertex_connect(1,'B')\n",
    "g.vertex_connect(2,'C')\n",
    "g.vertex_connect(3,'D')\n",
    "\n",
    "g.print_graph()\n",
    "\n",
    "    "
   ]
  },
  {
   "cell_type": "code",
   "execution_count": 5,
   "id": "8e97ea75-c10f-4f57-92f1-139581d86ef1",
   "metadata": {},
   "outputs": [
    {
     "name": "stdout",
     "output_type": "stream",
     "text": [
      "Adj Matrix\n",
      "\n",
      "0 0 1 1 1 0 0\n",
      "0 0 1 0 0 1 0\n",
      "1 1 0 0 1 1 1\n",
      "1 0 0 0 0 0 0\n",
      "1 0 1 0 0 0 0\n",
      "0 1 1 0 0 0 0\n",
      "0 0 1 0 0 0 0\n",
      "Vertex data:\n",
      "\n",
      "vertex 0:A\n",
      "vertex 1:B\n",
      "vertex 2:C\n",
      "vertex 3:D\n",
      "vertex 4:E\n",
      "vertex 5:F\n",
      "vertex 6:G\n",
      "D\n",
      "A\n",
      "C\n",
      "B\n",
      "F\n",
      "E\n",
      "G\n"
     ]
    }
   ],
   "source": [
    "class GraphsTraversal:\n",
    "    def __init__(self,size):\n",
    "        self.size=size\n",
    "        self.adj_matrix=[['0']*size for i in range(self.size)]\n",
    "        self.vertex_data=[' ']*size\n",
    "    def edge_connection(self,u,v):\n",
    "        if 0<=u<self.size and 0<=v<self.size:\n",
    "            self.adj_matrix[u][v]=1\n",
    "            self.adj_matrix[v][u]=1\n",
    "    def vertex_connection(self,vert,data):\n",
    "        if 0<=vert<self.size:\n",
    "            self.vertex_data[vert]=data\n",
    "    def print_graph(self):\n",
    "        print(\"Adj Matrix\\n\")\n",
    "        for i in self.adj_matrix:\n",
    "            print(' '.join(map(str,i)))\n",
    "        print(\"Vertex data:\\n\")\n",
    "        for vert,data in enumerate(self.vertex_data):\n",
    "            print(f'vertex {vert}:{data}')\n",
    "    def Bfs(self,starting_vertex):\n",
    "        queue=[self.vertex_data.index(starting_vertex)]\n",
    "        visited=[False]*self.size\n",
    "        visited[self.vertex_data.index(starting_vertex)]=True\n",
    "        while queue:\n",
    "            current_vertex=queue.pop(0)\n",
    "            print(self.vertex_data[current_vertex])\n",
    "            for i in range(self.size):\n",
    "                if self.adj_matrix[current_vertex][i]==1 and not visited[i]:\n",
    "                    visited[i]=True\n",
    "                    queue.append(i)\n",
    "    def Dfs_util(self,vert,visited):\n",
    "        visited[vert]=True\n",
    "        print(self.vertex_data[vert])\n",
    "        for i in range(self.size):\n",
    "            if self.adj_matrix[vert][i]==1 and not visited[i]:\n",
    "                self.Dfs_util(i,visited)\n",
    "    def Dfs(self,starting_vertex):\n",
    "        visited=[False]*self.size\n",
    "        self.Dfs_util(self.vertex_data.index(starting_vertex),visited)\n",
    "    \n",
    "                \n",
    "\n",
    "g=GraphsTraversal(7)\n",
    "g.edge_connection(0,3)\n",
    "g.edge_connection(0,4)\n",
    "g.edge_connection(0,2)\n",
    "g.edge_connection(2,4)\n",
    "g.edge_connection(2,6)\n",
    "g.edge_connection(2,1)\n",
    "g.edge_connection(2,5)\n",
    "g.edge_connection(1,5)\n",
    "g.vertex_connection(0,'A')\n",
    "g.vertex_connection(1,'B')\n",
    "g.vertex_connection(2,'C')\n",
    "g.vertex_connection(3,'D')\n",
    "g.vertex_connection(4,'E')\n",
    "g.vertex_connection(5,'F')\n",
    "g.vertex_connection(6,'G')\n",
    "g.print_graph()\n",
    "#g.Bfs(\"D\")\n",
    "g.Dfs(\"D\")"
   ]
  },
  {
   "cell_type": "code",
   "execution_count": null,
   "id": "e777c315-0d9d-4c62-a6bd-f58bdc7740f6",
   "metadata": {},
   "outputs": [],
   "source": []
  }
 ],
 "metadata": {
  "kernelspec": {
   "display_name": "Python [conda env:base] *",
   "language": "python",
   "name": "conda-base-py"
  },
  "language_info": {
   "codemirror_mode": {
    "name": "ipython",
    "version": 3
   },
   "file_extension": ".py",
   "mimetype": "text/x-python",
   "name": "python",
   "nbconvert_exporter": "python",
   "pygments_lexer": "ipython3",
   "version": "3.13.5"
  }
 },
 "nbformat": 4,
 "nbformat_minor": 5
}
